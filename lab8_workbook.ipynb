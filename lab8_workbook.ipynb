{
 "cells": [
  {
   "cell_type": "markdown",
   "metadata": {
    "colab_type": "text",
    "id": "u1YDPNtbdHDj"
   },
   "source": [
    "\n",
    "#  Inferential Statistics\n",
    "\n",
    "## PETE 2061 Lab 8 Workbook \n",
    "\n",
    "## THIS IS DUE BY 11:59 PM TODAY (Oct 14, 2019)"
   ]
  },
  {
   "cell_type": "markdown",
   "metadata": {},
   "source": [
    "1. **Using the example in \"lab8_inferential_stats.ipynb\", write a Python code to compute the confidence interval for the winning percentage of Ed Orgeron based on \"poll-larger.csv\", and show that he is the likely winner within a 95% confidence interval**\n",
    "2. Type out:\n",
    "    * (a) the 95% confidence interval\n",
    "    * (b) the point estimate\n",
    "    * (c) the margin of error."
   ]
  },
  {
   "cell_type": "code",
   "execution_count": 3,
   "metadata": {},
   "outputs": [
    {
     "data": {
      "text/plain": [
       "<matplotlib.lines.Line2D at 0x2119f2529b0>"
      ]
     },
     "execution_count": 3,
     "metadata": {},
     "output_type": "execute_result"
    },
    {
     "data": {
      "image/png": "[encoded data removed]",
      "text/plain": [
       "<Figure size 432x288 with 1 Axes>"
      ]
     },
     "metadata": {
      "needs_background": "light"
     },
     "output_type": "display_data"
    }
   ],
   "source": [
    "import math\n",
    "import io\n",
    "\n",
    "import numpy as np\n",
    "import pandas as pd\n",
    "\n",
    "import matplotlib\n",
    "import matplotlib.pyplot as plt\n",
    "\n",
    "%matplotlib inline\n",
    "\n",
    "import scipy.stats\n",
    "import scipy.optimize\n",
    "import scipy.spatial\n",
    "\n",
    "largepoll = pd.read_csv('poll-larger.csv')\n",
    "largepoll['vote'].value_counts(normalize=True)\n",
    "\n",
    "def sample(orgeronWinPercent,n=1000):\n",
    "    return pd.DataFrame({'vote': np.where(np.random.rand(n) < orgeronWinPercent,'Saban','Orgeron')})\n",
    "\n",
    "distDF = pd.DataFrame([sample(0.511)['vote'].value_counts(normalize=True) for i in range(1000)])\n",
    "distDF.head()\n",
    "\n",
    "distDF['Orgeron'].plot(kind='hist',histtype='step',bins=30, density=True)\n",
    "\n",
    "plt.axvline(distDF['Orgeron'].quantile(0.025), c='C1',linestyle='--')\n",
    "plt.axvline(distDF['Orgeron'].quantile(0.500), c='C1')\n",
    "plt.axvline(distDF['Orgeron'].quantile(0.975), c='C1',linestyle=':')"
   ]
  },
  {
   "cell_type": "code",
   "execution_count": 8,
   "metadata": {},
   "outputs": [
    {
     "data": {
      "text/plain": [
       "(0.463, 0.521)"
      ]
     },
     "execution_count": 8,
     "metadata": {},
     "output_type": "execute_result"
    }
   ],
   "source": [
    "def samplingdist(orgeronWinPercent,n=1000):\n",
    "    return pd.DataFrame([sample(orgeronWinPercent,n)['vote'].value_counts(normalize=True) for i in range(1000)])\n",
    "\n",
    "def quantiles(orgeronWinPercent,n=1000):\n",
    "    distDF = samplingdist(orgeronWinPercent,n)\n",
    "    return distDF['Orgeron'].quantile(0.025), distDF['Orgeron'].quantile(0.975)\n",
    "\n",
    "quantiles(0.51)"
   ]
  },
  {
   "cell_type": "code",
   "execution_count": 12,
   "metadata": {},
   "outputs": [
    {
     "data": {
      "text/plain": [
       "(0.4897, 0.5097025000000001)"
      ]
     },
     "execution_count": 12,
     "metadata": {},
     "output_type": "execute_result"
    },
    {
     "data": {
      "image/png": "[encoded data removed]",
      "text/plain": [
       "<Figure size 432x288 with 1 Axes>"
      ]
     },
     "metadata": {
      "needs_background": "light"
     },
     "output_type": "display_data"
    }
   ],
   "source": [
    "distDF = samplingdist(0.50,10000)\n",
    "\n",
    "distDF['Orgeron'].plot(kind='hist', histtype='step')\n",
    "plt.axvline(distDF['Orgeron'].quantile(0.025), c='C1',linestyle='--')\n",
    "plt.axvline(distDF['Orgeron'].quantile(0.500), c='C1')\n",
    "plt.axvline(distDF['Orgeron'].quantile(0.975), c='C1',linestyle=':')\n",
    "\n",
    "quantiles(0.5,10000)\n",
    "\n",
    "#plot and quantiles show that the 95% confidence interval is: [0.49, 0.51]\n",
    "#estimate=0.5+/-0.01"
   ]
  },
  {
   "cell_type": "markdown",
   "metadata": {},
   "source": [
    "95% Confidence Interval: .4897 - .5097025\n",
    "\n",
    "Point Estimate: .4997\n",
    "\n",
    "Margin of Error: 1%"
   ]
  }
 ],
 "metadata": {
  "colab": {
   "collapsed_sections": [
    "sYQs3O-6dHFb",
    "8sIJ4A57dHFk",
    "_73RPOcBdHFn",
    "h9s2tfPcdHFo",
    "zt4YHVYPdHGR"
   ],
   "include_colab_link": true,
   "name": "Copy of intro-python-colab.ipynb",
   "provenance": [],
   "version": "0.3.2"
  },
  "kernelspec": {
   "display_name": "Python 3",
   "language": "python",
   "name": "python3"
  },
  "language_info": {
   "codemirror_mode": {
    "name": "ipython",
    "version": 3
   },
   "file_extension": ".py",
   "mimetype": "text/x-python",
   "name": "python",
   "nbconvert_exporter": "python",
   "pygments_lexer": "ipython3",
   "version": "3.7.3"
  }
 },
 "nbformat": 4,
 "nbformat_minor": 1
}
